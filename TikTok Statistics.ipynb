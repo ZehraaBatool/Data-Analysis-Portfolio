{
 "cells": [
  {
   "cell_type": "markdown",
   "id": "73dc3199-d1ab-477a-a3b9-f80ec820552d",
   "metadata": {},
   "source": [
    "# <b>Hypothesis Testing</b>"
   ]
  },
  {
   "cell_type": "markdown",
   "id": "1b0c0302-e2fe-4f61-ae57-af1765d70339",
   "metadata": {},
   "source": [
    "Conducting a hypothesis test to determine <b>whether there is a significant difference in video views for verified versus unverified accounts. </b>"
   ]
  },
  {
   "cell_type": "markdown",
   "id": "2720c9e0-9560-4e22-892e-38c6b00782ae",
   "metadata": {},
   "source": [
    "### <b>Data Exploration</b>"
   ]
  },
  {
   "cell_type": "code",
   "execution_count": 2,
   "id": "6959e022-11a6-4549-9325-5c536ec01ca2",
   "metadata": {},
   "outputs": [],
   "source": [
    "import pandas as pd\n",
    "import numpy as np\n",
    "from scipy import stats"
   ]
  },
  {
   "cell_type": "code",
   "execution_count": 3,
   "id": "56170f16-6b97-44f9-a162-947729358c36",
   "metadata": {},
   "outputs": [],
   "source": [
    "# Loading cleaned data set\n",
    "data = pd.read_csv(\"TikTokCleaned.csv\")"
   ]
  },
  {
   "cell_type": "code",
   "execution_count": 4,
   "id": "dde31397-db48-4412-9ef7-0f3f01ba1eb6",
   "metadata": {},
   "outputs": [
    {
     "data": {
      "text/html": [
       "<div>\n",
       "<style scoped>\n",
       "    .dataframe tbody tr th:only-of-type {\n",
       "        vertical-align: middle;\n",
       "    }\n",
       "\n",
       "    .dataframe tbody tr th {\n",
       "        vertical-align: top;\n",
       "    }\n",
       "\n",
       "    .dataframe thead th {\n",
       "        text-align: right;\n",
       "    }\n",
       "</style>\n",
       "<table border=\"1\" class=\"dataframe\">\n",
       "  <thead>\n",
       "    <tr style=\"text-align: right;\">\n",
       "      <th></th>\n",
       "      <th>Unnamed: 0</th>\n",
       "      <th>#</th>\n",
       "      <th>claim_status</th>\n",
       "      <th>video_id</th>\n",
       "      <th>video_duration_sec</th>\n",
       "      <th>video_transcription_text</th>\n",
       "      <th>verified_status</th>\n",
       "      <th>author_ban_status</th>\n",
       "      <th>video_view_count</th>\n",
       "      <th>video_like_count</th>\n",
       "      <th>video_share_count</th>\n",
       "      <th>video_download_count</th>\n",
       "      <th>video_comment_count</th>\n",
       "    </tr>\n",
       "  </thead>\n",
       "  <tbody>\n",
       "    <tr>\n",
       "      <th>0</th>\n",
       "      <td>0</td>\n",
       "      <td>1</td>\n",
       "      <td>claim</td>\n",
       "      <td>7017666017</td>\n",
       "      <td>59</td>\n",
       "      <td>someone shared with me that drone deliveries a...</td>\n",
       "      <td>not verified</td>\n",
       "      <td>under review</td>\n",
       "      <td>343296.0</td>\n",
       "      <td>19425.0</td>\n",
       "      <td>241.0</td>\n",
       "      <td>1.0</td>\n",
       "      <td>0.0</td>\n",
       "    </tr>\n",
       "    <tr>\n",
       "      <th>1</th>\n",
       "      <td>1</td>\n",
       "      <td>2</td>\n",
       "      <td>claim</td>\n",
       "      <td>4014381136</td>\n",
       "      <td>32</td>\n",
       "      <td>someone shared with me that there are more mic...</td>\n",
       "      <td>not verified</td>\n",
       "      <td>active</td>\n",
       "      <td>140877.0</td>\n",
       "      <td>77355.0</td>\n",
       "      <td>19034.0</td>\n",
       "      <td>1161.0</td>\n",
       "      <td>684.0</td>\n",
       "    </tr>\n",
       "    <tr>\n",
       "      <th>2</th>\n",
       "      <td>2</td>\n",
       "      <td>3</td>\n",
       "      <td>claim</td>\n",
       "      <td>9859838091</td>\n",
       "      <td>31</td>\n",
       "      <td>someone shared with me that american industria...</td>\n",
       "      <td>not verified</td>\n",
       "      <td>active</td>\n",
       "      <td>902185.0</td>\n",
       "      <td>97690.0</td>\n",
       "      <td>2858.0</td>\n",
       "      <td>833.0</td>\n",
       "      <td>329.0</td>\n",
       "    </tr>\n",
       "    <tr>\n",
       "      <th>3</th>\n",
       "      <td>3</td>\n",
       "      <td>4</td>\n",
       "      <td>claim</td>\n",
       "      <td>1866847991</td>\n",
       "      <td>25</td>\n",
       "      <td>someone shared with me that the metro of st. p...</td>\n",
       "      <td>not verified</td>\n",
       "      <td>active</td>\n",
       "      <td>437506.0</td>\n",
       "      <td>239954.0</td>\n",
       "      <td>34812.0</td>\n",
       "      <td>1234.0</td>\n",
       "      <td>584.0</td>\n",
       "    </tr>\n",
       "    <tr>\n",
       "      <th>4</th>\n",
       "      <td>4</td>\n",
       "      <td>5</td>\n",
       "      <td>claim</td>\n",
       "      <td>7105231098</td>\n",
       "      <td>19</td>\n",
       "      <td>someone shared with me that the number of busi...</td>\n",
       "      <td>not verified</td>\n",
       "      <td>active</td>\n",
       "      <td>56167.0</td>\n",
       "      <td>34987.0</td>\n",
       "      <td>4110.0</td>\n",
       "      <td>547.0</td>\n",
       "      <td>152.0</td>\n",
       "    </tr>\n",
       "    <tr>\n",
       "      <th>5</th>\n",
       "      <td>5</td>\n",
       "      <td>6</td>\n",
       "      <td>claim</td>\n",
       "      <td>8972200955</td>\n",
       "      <td>35</td>\n",
       "      <td>someone shared with me that gross domestic pro...</td>\n",
       "      <td>not verified</td>\n",
       "      <td>under review</td>\n",
       "      <td>336647.0</td>\n",
       "      <td>175546.0</td>\n",
       "      <td>62303.0</td>\n",
       "      <td>4293.0</td>\n",
       "      <td>1857.0</td>\n",
       "    </tr>\n",
       "    <tr>\n",
       "      <th>6</th>\n",
       "      <td>6</td>\n",
       "      <td>7</td>\n",
       "      <td>claim</td>\n",
       "      <td>4958886992</td>\n",
       "      <td>16</td>\n",
       "      <td>someone shared with me that elvis presley has ...</td>\n",
       "      <td>not verified</td>\n",
       "      <td>active</td>\n",
       "      <td>750345.0</td>\n",
       "      <td>486192.0</td>\n",
       "      <td>193911.0</td>\n",
       "      <td>8616.0</td>\n",
       "      <td>5446.0</td>\n",
       "    </tr>\n",
       "    <tr>\n",
       "      <th>7</th>\n",
       "      <td>7</td>\n",
       "      <td>8</td>\n",
       "      <td>claim</td>\n",
       "      <td>2270982263</td>\n",
       "      <td>41</td>\n",
       "      <td>someone shared with me that the best selling s...</td>\n",
       "      <td>not verified</td>\n",
       "      <td>active</td>\n",
       "      <td>547532.0</td>\n",
       "      <td>1072.0</td>\n",
       "      <td>50.0</td>\n",
       "      <td>22.0</td>\n",
       "      <td>11.0</td>\n",
       "    </tr>\n",
       "    <tr>\n",
       "      <th>8</th>\n",
       "      <td>8</td>\n",
       "      <td>9</td>\n",
       "      <td>claim</td>\n",
       "      <td>5235769692</td>\n",
       "      <td>50</td>\n",
       "      <td>someone shared with me that about half of the ...</td>\n",
       "      <td>not verified</td>\n",
       "      <td>active</td>\n",
       "      <td>24819.0</td>\n",
       "      <td>10160.0</td>\n",
       "      <td>1050.0</td>\n",
       "      <td>53.0</td>\n",
       "      <td>27.0</td>\n",
       "    </tr>\n",
       "    <tr>\n",
       "      <th>9</th>\n",
       "      <td>9</td>\n",
       "      <td>10</td>\n",
       "      <td>claim</td>\n",
       "      <td>4660861094</td>\n",
       "      <td>45</td>\n",
       "      <td>someone shared with me that it would take a 50...</td>\n",
       "      <td>verified</td>\n",
       "      <td>active</td>\n",
       "      <td>931587.0</td>\n",
       "      <td>171051.0</td>\n",
       "      <td>67739.0</td>\n",
       "      <td>4104.0</td>\n",
       "      <td>2540.0</td>\n",
       "    </tr>\n",
       "  </tbody>\n",
       "</table>\n",
       "</div>"
      ],
      "text/plain": [
       "   Unnamed: 0   # claim_status    video_id  video_duration_sec  \\\n",
       "0           0   1        claim  7017666017                  59   \n",
       "1           1   2        claim  4014381136                  32   \n",
       "2           2   3        claim  9859838091                  31   \n",
       "3           3   4        claim  1866847991                  25   \n",
       "4           4   5        claim  7105231098                  19   \n",
       "5           5   6        claim  8972200955                  35   \n",
       "6           6   7        claim  4958886992                  16   \n",
       "7           7   8        claim  2270982263                  41   \n",
       "8           8   9        claim  5235769692                  50   \n",
       "9           9  10        claim  4660861094                  45   \n",
       "\n",
       "                            video_transcription_text verified_status  \\\n",
       "0  someone shared with me that drone deliveries a...    not verified   \n",
       "1  someone shared with me that there are more mic...    not verified   \n",
       "2  someone shared with me that american industria...    not verified   \n",
       "3  someone shared with me that the metro of st. p...    not verified   \n",
       "4  someone shared with me that the number of busi...    not verified   \n",
       "5  someone shared with me that gross domestic pro...    not verified   \n",
       "6  someone shared with me that elvis presley has ...    not verified   \n",
       "7  someone shared with me that the best selling s...    not verified   \n",
       "8  someone shared with me that about half of the ...    not verified   \n",
       "9  someone shared with me that it would take a 50...        verified   \n",
       "\n",
       "  author_ban_status  video_view_count  video_like_count  video_share_count  \\\n",
       "0      under review          343296.0           19425.0              241.0   \n",
       "1            active          140877.0           77355.0            19034.0   \n",
       "2            active          902185.0           97690.0             2858.0   \n",
       "3            active          437506.0          239954.0            34812.0   \n",
       "4            active           56167.0           34987.0             4110.0   \n",
       "5      under review          336647.0          175546.0            62303.0   \n",
       "6            active          750345.0          486192.0           193911.0   \n",
       "7            active          547532.0            1072.0               50.0   \n",
       "8            active           24819.0           10160.0             1050.0   \n",
       "9            active          931587.0          171051.0            67739.0   \n",
       "\n",
       "   video_download_count  video_comment_count  \n",
       "0                   1.0                  0.0  \n",
       "1                1161.0                684.0  \n",
       "2                 833.0                329.0  \n",
       "3                1234.0                584.0  \n",
       "4                 547.0                152.0  \n",
       "5                4293.0               1857.0  \n",
       "6                8616.0               5446.0  \n",
       "7                  22.0                 11.0  \n",
       "8                  53.0                 27.0  \n",
       "9                4104.0               2540.0  "
      ]
     },
     "execution_count": 4,
     "metadata": {},
     "output_type": "execute_result"
    }
   ],
   "source": [
    "data.head(10)"
   ]
  },
  {
   "cell_type": "code",
   "execution_count": 5,
   "id": "bff6a38a-efda-416c-9ec1-800c526d9b97",
   "metadata": {},
   "outputs": [
    {
     "data": {
      "text/html": [
       "<div>\n",
       "<style scoped>\n",
       "    .dataframe tbody tr th:only-of-type {\n",
       "        vertical-align: middle;\n",
       "    }\n",
       "\n",
       "    .dataframe tbody tr th {\n",
       "        vertical-align: top;\n",
       "    }\n",
       "\n",
       "    .dataframe thead th {\n",
       "        text-align: right;\n",
       "    }\n",
       "</style>\n",
       "<table border=\"1\" class=\"dataframe\">\n",
       "  <thead>\n",
       "    <tr style=\"text-align: right;\">\n",
       "      <th></th>\n",
       "      <th>Unnamed: 0</th>\n",
       "      <th>#</th>\n",
       "      <th>video_id</th>\n",
       "      <th>video_duration_sec</th>\n",
       "      <th>video_view_count</th>\n",
       "      <th>video_like_count</th>\n",
       "      <th>video_share_count</th>\n",
       "      <th>video_download_count</th>\n",
       "      <th>video_comment_count</th>\n",
       "    </tr>\n",
       "  </thead>\n",
       "  <tbody>\n",
       "    <tr>\n",
       "      <th>count</th>\n",
       "      <td>19084.000000</td>\n",
       "      <td>19084.000000</td>\n",
       "      <td>1.908400e+04</td>\n",
       "      <td>19084.000000</td>\n",
       "      <td>19084.000000</td>\n",
       "      <td>19084.000000</td>\n",
       "      <td>19084.000000</td>\n",
       "      <td>19084.000000</td>\n",
       "      <td>19084.000000</td>\n",
       "    </tr>\n",
       "    <tr>\n",
       "      <th>mean</th>\n",
       "      <td>9541.500000</td>\n",
       "      <td>9542.500000</td>\n",
       "      <td>5.624840e+09</td>\n",
       "      <td>32.423811</td>\n",
       "      <td>254708.558688</td>\n",
       "      <td>84304.636030</td>\n",
       "      <td>16735.248323</td>\n",
       "      <td>1049.429627</td>\n",
       "      <td>349.312146</td>\n",
       "    </tr>\n",
       "    <tr>\n",
       "      <th>std</th>\n",
       "      <td>5509.220604</td>\n",
       "      <td>5509.220604</td>\n",
       "      <td>2.537030e+09</td>\n",
       "      <td>16.226470</td>\n",
       "      <td>322893.280814</td>\n",
       "      <td>133420.546814</td>\n",
       "      <td>32036.174350</td>\n",
       "      <td>2004.299894</td>\n",
       "      <td>799.638865</td>\n",
       "    </tr>\n",
       "    <tr>\n",
       "      <th>min</th>\n",
       "      <td>0.000000</td>\n",
       "      <td>1.000000</td>\n",
       "      <td>1.234959e+09</td>\n",
       "      <td>5.000000</td>\n",
       "      <td>20.000000</td>\n",
       "      <td>0.000000</td>\n",
       "      <td>0.000000</td>\n",
       "      <td>0.000000</td>\n",
       "      <td>0.000000</td>\n",
       "    </tr>\n",
       "    <tr>\n",
       "      <th>25%</th>\n",
       "      <td>4770.750000</td>\n",
       "      <td>4771.750000</td>\n",
       "      <td>3.425100e+09</td>\n",
       "      <td>18.000000</td>\n",
       "      <td>4942.500000</td>\n",
       "      <td>810.750000</td>\n",
       "      <td>115.000000</td>\n",
       "      <td>7.000000</td>\n",
       "      <td>1.000000</td>\n",
       "    </tr>\n",
       "    <tr>\n",
       "      <th>50%</th>\n",
       "      <td>9541.500000</td>\n",
       "      <td>9542.500000</td>\n",
       "      <td>5.609500e+09</td>\n",
       "      <td>32.000000</td>\n",
       "      <td>9954.500000</td>\n",
       "      <td>3403.500000</td>\n",
       "      <td>717.000000</td>\n",
       "      <td>46.000000</td>\n",
       "      <td>9.000000</td>\n",
       "    </tr>\n",
       "    <tr>\n",
       "      <th>75%</th>\n",
       "      <td>14312.250000</td>\n",
       "      <td>14313.250000</td>\n",
       "      <td>7.840823e+09</td>\n",
       "      <td>47.000000</td>\n",
       "      <td>504327.000000</td>\n",
       "      <td>125020.000000</td>\n",
       "      <td>18222.000000</td>\n",
       "      <td>1156.250000</td>\n",
       "      <td>292.000000</td>\n",
       "    </tr>\n",
       "    <tr>\n",
       "      <th>max</th>\n",
       "      <td>19083.000000</td>\n",
       "      <td>19084.000000</td>\n",
       "      <td>9.999873e+09</td>\n",
       "      <td>60.000000</td>\n",
       "      <td>999817.000000</td>\n",
       "      <td>657830.000000</td>\n",
       "      <td>256130.000000</td>\n",
       "      <td>14994.000000</td>\n",
       "      <td>9599.000000</td>\n",
       "    </tr>\n",
       "  </tbody>\n",
       "</table>\n",
       "</div>"
      ],
      "text/plain": [
       "         Unnamed: 0             #      video_id  video_duration_sec  \\\n",
       "count  19084.000000  19084.000000  1.908400e+04        19084.000000   \n",
       "mean    9541.500000   9542.500000  5.624840e+09           32.423811   \n",
       "std     5509.220604   5509.220604  2.537030e+09           16.226470   \n",
       "min        0.000000      1.000000  1.234959e+09            5.000000   \n",
       "25%     4770.750000   4771.750000  3.425100e+09           18.000000   \n",
       "50%     9541.500000   9542.500000  5.609500e+09           32.000000   \n",
       "75%    14312.250000  14313.250000  7.840823e+09           47.000000   \n",
       "max    19083.000000  19084.000000  9.999873e+09           60.000000   \n",
       "\n",
       "       video_view_count  video_like_count  video_share_count  \\\n",
       "count      19084.000000      19084.000000       19084.000000   \n",
       "mean      254708.558688      84304.636030       16735.248323   \n",
       "std       322893.280814     133420.546814       32036.174350   \n",
       "min           20.000000          0.000000           0.000000   \n",
       "25%         4942.500000        810.750000         115.000000   \n",
       "50%         9954.500000       3403.500000         717.000000   \n",
       "75%       504327.000000     125020.000000       18222.000000   \n",
       "max       999817.000000     657830.000000      256130.000000   \n",
       "\n",
       "       video_download_count  video_comment_count  \n",
       "count          19084.000000         19084.000000  \n",
       "mean            1049.429627           349.312146  \n",
       "std             2004.299894           799.638865  \n",
       "min                0.000000             0.000000  \n",
       "25%                7.000000             1.000000  \n",
       "50%               46.000000             9.000000  \n",
       "75%             1156.250000           292.000000  \n",
       "max            14994.000000          9599.000000  "
      ]
     },
     "execution_count": 5,
     "metadata": {},
     "output_type": "execute_result"
    }
   ],
   "source": [
    "data.describe()"
   ]
  },
  {
   "cell_type": "code",
   "execution_count": 6,
   "id": "b543dd7f-e839-4af8-ac7d-41cdd4ef83fa",
   "metadata": {},
   "outputs": [
    {
     "name": "stdout",
     "output_type": "stream",
     "text": [
      "<class 'pandas.core.frame.DataFrame'>\n",
      "RangeIndex: 19084 entries, 0 to 19083\n",
      "Data columns (total 13 columns):\n",
      " #   Column                    Non-Null Count  Dtype  \n",
      "---  ------                    --------------  -----  \n",
      " 0   Unnamed: 0                19084 non-null  int64  \n",
      " 1   #                         19084 non-null  int64  \n",
      " 2   claim_status              19084 non-null  object \n",
      " 3   video_id                  19084 non-null  int64  \n",
      " 4   video_duration_sec        19084 non-null  int64  \n",
      " 5   video_transcription_text  19084 non-null  object \n",
      " 6   verified_status           19084 non-null  object \n",
      " 7   author_ban_status         19084 non-null  object \n",
      " 8   video_view_count          19084 non-null  float64\n",
      " 9   video_like_count          19084 non-null  float64\n",
      " 10  video_share_count         19084 non-null  float64\n",
      " 11  video_download_count      19084 non-null  float64\n",
      " 12  video_comment_count       19084 non-null  float64\n",
      "dtypes: float64(5), int64(4), object(4)\n",
      "memory usage: 1.9+ MB\n"
     ]
    }
   ],
   "source": [
    "data.info()"
   ]
  },
  {
   "cell_type": "markdown",
   "id": "651d8b21-168e-4dd3-966c-e5196e7c880c",
   "metadata": {},
   "source": [
    "### <b>Descriptive Statistics</b>"
   ]
  },
  {
   "cell_type": "markdown",
   "id": "c8c5e1b3-26ac-4b73-aeca-5ab5c0409f84",
   "metadata": {},
   "source": [
    "Since we are interested in two variables <b>video_view_count</b> and <b>verified_status</b>, hence performing descriptive statistics "
   ]
  },
  {
   "cell_type": "code",
   "execution_count": 32,
   "id": "87b0047b-e8f5-4ddb-95d2-a00cf5aafd9f",
   "metadata": {},
   "outputs": [
    {
     "data": {
      "text/plain": [
       "verified_status\n",
       "not verified    265663.785339\n",
       "verified         91439.164167\n",
       "Name: video_view_count, dtype: float64"
      ]
     },
     "execution_count": 32,
     "metadata": {},
     "output_type": "execute_result"
    }
   ],
   "source": [
    "data.groupby(data['verified_status'])['video_view_count'].mean()"
   ]
  },
  {
   "cell_type": "markdown",
   "id": "c6ac8f12-e180-46b7-9a13-847f5d85e04b",
   "metadata": {},
   "source": [
    "The mean number of video view count of non verfied users is significantly higher than those of verified user"
   ]
  },
  {
   "cell_type": "markdown",
   "id": "16dec927-c9d6-4d07-9deb-b98ebdfa0bb2",
   "metadata": {},
   "source": [
    "### <b>Hypothesis Test</b>"
   ]
  },
  {
   "cell_type": "markdown",
   "id": "ee20d09a-b039-4afb-9fbd-b201b8f634dd",
   "metadata": {},
   "source": [
    "<b>Null Hypothesis : </b>There is no significant difference in video views for verified versus unverified accounts (Any difference observed is due to sampling variability)<br>\n",
    "<b>Alternate Hypothesis : </b>There is a significant difference in video views for verified versus unverified accounts (The difference is an actual difference and not by chance)"
   ]
  },
  {
   "cell_type": "markdown",
   "id": "84a95601-9f43-4150-b1bf-96138bae5152",
   "metadata": {},
   "source": [
    "Significant Level choosen is 5%"
   ]
  },
  {
   "cell_type": "code",
   "execution_count": 35,
   "id": "3630b42f-0c91-4ebc-b776-fff82803cf6e",
   "metadata": {},
   "outputs": [],
   "source": [
    "significant_level = 0.05"
   ]
  },
  {
   "cell_type": "code",
   "execution_count": 30,
   "id": "83586ec4-b67e-4bc2-8562-66bfc93d55fa",
   "metadata": {},
   "outputs": [],
   "source": [
    "verified = data[data['verified_status']=='verified']\n",
    "nonverified = data[data['verified_status']=='not verified']"
   ]
  },
  {
   "cell_type": "markdown",
   "id": "e89dad1a-78b3-402a-a8d5-29bb2ffdc2b3",
   "metadata": {},
   "source": [
    "Conducting two-sample t-test to compare mean"
   ]
  },
  {
   "cell_type": "code",
   "execution_count": 33,
   "id": "9ef3995b-558b-49aa-a1a0-4b6d4b8daf35",
   "metadata": {},
   "outputs": [],
   "source": [
    "p_value = stats.ttest_ind(a=verified['video_view_count'],b=nonverified['video_view_count'],equal_var=False)"
   ]
  },
  {
   "cell_type": "code",
   "execution_count": 34,
   "id": "31568393-672c-451a-856e-706b174bdc3f",
   "metadata": {},
   "outputs": [
    {
     "data": {
      "text/plain": [
       "TtestResult(statistic=-25.499441780633777, pvalue=2.6088823687177823e-120, df=1571.163074387424)"
      ]
     },
     "execution_count": 34,
     "metadata": {},
     "output_type": "execute_result"
    }
   ],
   "source": [
    "p_value"
   ]
  },
  {
   "cell_type": "markdown",
   "id": "803cd5f0-00ed-45d1-a414-695827f073e3",
   "metadata": {},
   "source": [
    "p_value 0.0260 (2.60%) is much smaller than significant_value 0.05 (5%) <br> <b>Hence we reject the null hypothesis</b>"
   ]
  },
  {
   "cell_type": "markdown",
   "id": "d7a7334e-7089-428f-af1e-642f531952d0",
   "metadata": {},
   "source": [
    "<b>There is a significant difference in video views for verified versus unverified accounts. The difference we observed during descriptive statistics is actual difference and not by chance</b>"
   ]
  }
 ],
 "metadata": {
  "kernelspec": {
   "display_name": "Python 3 (ipykernel)",
   "language": "python",
   "name": "python3"
  },
  "language_info": {
   "codemirror_mode": {
    "name": "ipython",
    "version": 3
   },
   "file_extension": ".py",
   "mimetype": "text/x-python",
   "name": "python",
   "nbconvert_exporter": "python",
   "pygments_lexer": "ipython3",
   "version": "3.10.7"
  }
 },
 "nbformat": 4,
 "nbformat_minor": 5
}
