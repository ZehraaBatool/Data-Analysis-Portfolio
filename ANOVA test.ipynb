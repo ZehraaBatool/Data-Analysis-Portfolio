{
 "cells": [
  {
   "cell_type": "markdown",
   "id": "01e0c955-30eb-40b6-9d7c-665080b95152",
   "metadata": {},
   "source": [
    "# <b>ANOVA Testing</b>"
   ]
  },
  {
   "cell_type": "code",
   "execution_count": 29,
   "id": "b2147a74-5878-4a4b-b0ed-922f15a3e296",
   "metadata": {},
   "outputs": [],
   "source": [
    "#Importing libraries\n",
    "import pandas as pd\n",
    "import seaborn as sns\n",
    "import numpy as np\n",
    "import statsmodels.api as sm\n",
    "from statsmodels.formula.api import ols\n",
    "import matplotlib.pyplot as plt"
   ]
  },
  {
   "cell_type": "code",
   "execution_count": 4,
   "id": "c525cf0a-babb-4fe1-82d6-ac19a600775e",
   "metadata": {},
   "outputs": [],
   "source": [
    "#Loading data\n",
    "data = pd.read_csv('marketing_sales_dataANOVA.csv')"
   ]
  },
  {
   "cell_type": "code",
   "execution_count": 6,
   "id": "0a405daf-7d81-43f8-9dfe-7af123b75efb",
   "metadata": {},
   "outputs": [
    {
     "data": {
      "text/html": [
       "<div>\n",
       "<style scoped>\n",
       "    .dataframe tbody tr th:only-of-type {\n",
       "        vertical-align: middle;\n",
       "    }\n",
       "\n",
       "    .dataframe tbody tr th {\n",
       "        vertical-align: top;\n",
       "    }\n",
       "\n",
       "    .dataframe thead th {\n",
       "        text-align: right;\n",
       "    }\n",
       "</style>\n",
       "<table border=\"1\" class=\"dataframe\">\n",
       "  <thead>\n",
       "    <tr style=\"text-align: right;\">\n",
       "      <th></th>\n",
       "      <th>TV</th>\n",
       "      <th>Radio</th>\n",
       "      <th>Social Media</th>\n",
       "      <th>Influencer</th>\n",
       "      <th>Sales</th>\n",
       "    </tr>\n",
       "  </thead>\n",
       "  <tbody>\n",
       "    <tr>\n",
       "      <th>0</th>\n",
       "      <td>Low</td>\n",
       "      <td>1.218354</td>\n",
       "      <td>1.270444</td>\n",
       "      <td>Micro</td>\n",
       "      <td>90.054222</td>\n",
       "    </tr>\n",
       "    <tr>\n",
       "      <th>1</th>\n",
       "      <td>Medium</td>\n",
       "      <td>14.949791</td>\n",
       "      <td>0.274451</td>\n",
       "      <td>Macro</td>\n",
       "      <td>222.741668</td>\n",
       "    </tr>\n",
       "    <tr>\n",
       "      <th>2</th>\n",
       "      <td>Low</td>\n",
       "      <td>10.377258</td>\n",
       "      <td>0.061984</td>\n",
       "      <td>Mega</td>\n",
       "      <td>102.774790</td>\n",
       "    </tr>\n",
       "    <tr>\n",
       "      <th>3</th>\n",
       "      <td>High</td>\n",
       "      <td>26.469274</td>\n",
       "      <td>7.070945</td>\n",
       "      <td>Micro</td>\n",
       "      <td>328.239378</td>\n",
       "    </tr>\n",
       "    <tr>\n",
       "      <th>4</th>\n",
       "      <td>High</td>\n",
       "      <td>36.876302</td>\n",
       "      <td>7.618605</td>\n",
       "      <td>Mega</td>\n",
       "      <td>351.807328</td>\n",
       "    </tr>\n",
       "  </tbody>\n",
       "</table>\n",
       "</div>"
      ],
      "text/plain": [
       "       TV      Radio  Social Media Influencer       Sales\n",
       "0     Low   1.218354      1.270444      Micro   90.054222\n",
       "1  Medium  14.949791      0.274451      Macro  222.741668\n",
       "2     Low  10.377258      0.061984       Mega  102.774790\n",
       "3    High  26.469274      7.070945      Micro  328.239378\n",
       "4    High  36.876302      7.618605       Mega  351.807328"
      ]
     },
     "execution_count": 6,
     "metadata": {},
     "output_type": "execute_result"
    }
   ],
   "source": [
    "data.head()"
   ]
  },
  {
   "cell_type": "markdown",
   "id": "03dfcbe5-7ce0-4dfc-ba5e-3cbc381f3ad5",
   "metadata": {},
   "source": [
    "##### The features in the data are:\n",
    "\n",
    "##### 1. TV promotion budget (in Low, Medium, and High categories)\n",
    "##### 2. Social media promotion budget (in millions of dollars)\n",
    "##### 3. Radio promotion budget (in millions of dollars)\n",
    "##### 4. Sales (in millions of dollars)\n",
    "##### 5. Influencer size (in Mega, Macro, Nano, and Micro categories)"
   ]
  },
  {
   "cell_type": "markdown",
   "id": "9722d8e3-a377-434c-a6e1-9a603ef7c34f",
   "metadata": {},
   "source": [
    "### <B>Data Exploration</B>"
   ]
  },
  {
   "cell_type": "markdown",
   "id": "879e9686-bf11-4297-9193-b94048fd8af5",
   "metadata": {},
   "source": [
    "##### BoxPlot between Sales and TV to determine how much Sales vary based on TV promotion budget"
   ]
  },
  {
   "cell_type": "code",
   "execution_count": 14,
   "id": "9fe8adef-1e6c-4e9a-8b25-47bd3f84d183",
   "metadata": {},
   "outputs": [
    {
     "data": {
      "text/plain": [
       "<Axes: xlabel='TV', ylabel='Sales'>"
      ]
     },
     "execution_count": 14,
     "metadata": {},
     "output_type": "execute_result"
    },
    {
     "data": {
      "image/png": "[encoded data removed]",
      "text/plain": [
       "<Figure size 640x480 with 1 Axes>"
      ]
     },
     "metadata": {},
     "output_type": "display_data"
    }
   ],
   "source": [
    "sns.boxplot(x=\"TV\",y=\"Sales\",data=data)"
   ]
  },
  {
   "cell_type": "markdown",
   "id": "8aa593e5-5f1d-4590-8e0a-081b77dae09b",
   "metadata": {},
   "source": [
    "##### There is considerable variation in Sales across the TV groups. The significance of these differences can be tested with a one-way ANOVA."
   ]
  },
  {
   "cell_type": "markdown",
   "id": "ef311656-f1b7-4ef9-9a6e-40f4a3e0d9c4",
   "metadata": {},
   "source": [
    "##### BoxPlot between Sales and Influencer to determine how much Sales vary based on Influencer Size"
   ]
  },
  {
   "cell_type": "code",
   "execution_count": 15,
   "id": "161ca901-71eb-49d1-9b8e-fedee0ff8ee9",
   "metadata": {},
   "outputs": [
    {
     "data": {
      "text/plain": [
       "<Axes: xlabel='Influencer', ylabel='Sales'>"
      ]
     },
     "execution_count": 15,
     "metadata": {},
     "output_type": "execute_result"
    },
    {
     "data": {
      "image/png": "[encoded data removed]",
      "text/plain": [
       "<Figure size 640x480 with 1 Axes>"
      ]
     },
     "metadata": {},
     "output_type": "display_data"
    }
   ],
   "source": [
    "sns.boxplot(x=\"Influencer\",y=\"Sales\", data=data)"
   ]
  },
  {
   "cell_type": "markdown",
   "id": "334a87c5-f5bc-4360-8f46-3cb3aa829424",
   "metadata": {},
   "source": [
    "##### There is some variation across Influencer group but it is not much significant"
   ]
  },
  {
   "cell_type": "markdown",
   "id": "a9ac9251-9878-4308-8016-a0202bed855b",
   "metadata": {},
   "source": [
    "##### <B>Removing Missing Data</B>"
   ]
  },
  {
   "cell_type": "code",
   "execution_count": 16,
   "id": "be93c688-99fe-4c56-b3ea-76588256b28d",
   "metadata": {},
   "outputs": [
    {
     "data": {
      "text/plain": [
       "3"
      ]
     },
     "execution_count": 16,
     "metadata": {},
     "output_type": "execute_result"
    }
   ],
   "source": [
    "#Checking if there are any null rows\n",
    "data.isna().any(axis=1).sum()"
   ]
  },
  {
   "cell_type": "code",
   "execution_count": 19,
   "id": "cd2a3c33-124d-42e7-9779-cb60e1523491",
   "metadata": {},
   "outputs": [],
   "source": [
    "#Dropping null\n",
    "data= data.dropna(axis=0)"
   ]
  },
  {
   "cell_type": "code",
   "execution_count": 20,
   "id": "622503a6-658d-4246-b0d4-d79ef930da9f",
   "metadata": {},
   "outputs": [
    {
     "data": {
      "text/plain": [
       "0"
      ]
     },
     "execution_count": 20,
     "metadata": {},
     "output_type": "execute_result"
    }
   ],
   "source": [
    "#Rechecking if there are any null rows\n",
    "data.isna().any(axis=1).sum()"
   ]
  },
  {
   "cell_type": "markdown",
   "id": "d56c3560-ea30-475e-a07b-2d35a12dbc2c",
   "metadata": {},
   "source": [
    "### <B>Data Modelling</B>"
   ]
  },
  {
   "cell_type": "code",
   "execution_count": 21,
   "id": "0a4d4690-08a9-43e5-989a-f475140b23fe",
   "metadata": {},
   "outputs": [],
   "source": [
    "ols_formula = 'Sales ~ C(TV)'\n",
    "OLS =ols(formula =ols_formula,data=data)"
   ]
  },
  {
   "cell_type": "code",
   "execution_count": 22,
   "id": "3898924b-f009-4f9b-9ecb-a1bca45785b0",
   "metadata": {},
   "outputs": [],
   "source": [
    "model = OLS.fit()"
   ]
  },
  {
   "cell_type": "code",
   "execution_count": 24,
   "id": "7b61a12b-8df9-401d-aa2a-ea5d61b57316",
   "metadata": {},
   "outputs": [],
   "source": [
    "model_summary = model.summary()"
   ]
  },
  {
   "cell_type": "markdown",
   "id": "cd640d48-ae32-4941-b9a3-82a9afbfbcc6",
   "metadata": {},
   "source": [
    "#### <B>Checking Model Assumptions</B>"
   ]
  },
  {
   "cell_type": "markdown",
   "id": "52b4f390-d02e-46f4-8cfa-fd325baa05a6",
   "metadata": {},
   "source": [
    "##### <B>Assumption # 01 Linearity</b>"
   ]
  },
  {
   "cell_type": "markdown",
   "id": "21a037cb-d2f3-4f13-a1de-7a0a17e11cdc",
   "metadata": {},
   "source": [
    "###### No continious variable hence no need to check this assumption"
   ]
  },
  {
   "cell_type": "markdown",
   "id": "430c55b9-e6de-480f-8f5f-70dd57661663",
   "metadata": {},
   "source": [
    "##### <B>Assumption # 02 Normaility</b>"
   ]
  },
  {
   "cell_type": "code",
   "execution_count": 25,
   "id": "e96bc615-bb26-48a1-907e-e091d97617a9",
   "metadata": {},
   "outputs": [],
   "source": [
    "residual = model.resid"
   ]
  },
  {
   "cell_type": "code",
   "execution_count": 30,
   "id": "142f5a3c-415b-4e6f-83f3-741ba6e3bd6a",
   "metadata": {},
   "outputs": [
    {
     "data": {
      "image/png": "[encoded data removed]",
      "text/plain": [
       "<Figure size 640x480 with 1 Axes>"
      ]
     },
     "metadata": {},
     "output_type": "display_data"
    }
   ],
   "source": [
    "fig = sm.qqplot(residual,line='s')\n",
    "plt.show()"
   ]
  },
  {
   "cell_type": "markdown",
   "id": "57e6b018-acdc-4be7-92fd-9f8a422c5da5",
   "metadata": {},
   "source": [
    "###### Residuals appear in straight line hence normality is not violated"
   ]
  },
  {
   "cell_type": "markdown",
   "id": "7361925c-adf0-4de6-ba5e-75108c33b89c",
   "metadata": {},
   "source": [
    "##### <B>Assumption # 03 Independence</b>"
   ]
  },
  {
   "cell_type": "markdown",
   "id": "b025ede7-6295-4fdd-8e60-e2bd3481411f",
   "metadata": {},
   "source": [
    "###### The independent observation assumption states that each observation in the dataset is independent. As each marketing promotion (row) is independent from one another, the independence assumption is not violated."
   ]
  },
  {
   "cell_type": "markdown",
   "id": "f14d77f4-5a63-4bda-b19f-db372e13e358",
   "metadata": {},
   "source": [
    "##### <B>Assumption # 04 Homoscadicity</b>"
   ]
  },
  {
   "cell_type": "code",
   "execution_count": 32,
   "id": "a768db37-a715-4d96-9821-9ed3a54382cf",
   "metadata": {},
   "outputs": [],
   "source": [
    "fitted_value = model.fittedvalues"
   ]
  },
  {
   "cell_type": "code",
   "execution_count": 35,
   "id": "3d64ca64-037e-47df-aed3-cbd9024b038f",
   "metadata": {},
   "outputs": [
    {
     "data": {
      "image/png": "[encoded data removed]",
      "text/plain": [
       "<Figure size 640x480 with 1 Axes>"
      ]
     },
     "metadata": {},
     "output_type": "display_data"
    }
   ],
   "source": [
    "fig = sns.scatterplot(x= fitted_value, y = residual)\n",
    "fig.axhline(0)\n",
    "fig.set_xlabel(\"Residuals\")\n",
    "fig.set_ylabel(\"Fitted Values\")\n",
    "plt.show()"
   ]
  },
  {
   "cell_type": "markdown",
   "id": "537e355e-ad55-4896-914e-9eb47f52fa91",
   "metadata": {},
   "source": [
    "###### The variance where there are fitted values is similarly distributed, validating that the Homoscadicity assumption is met."
   ]
  },
  {
   "cell_type": "markdown",
   "id": "ab65aeb2-6178-4374-abda-c5b4c2a07ad0",
   "metadata": {},
   "source": [
    "### <b>Result and Evaluation </b>"
   ]
  },
  {
   "cell_type": "code",
   "execution_count": 38,
   "id": "fbf999fd-131f-4cbf-8e79-7af2f2b0b010",
   "metadata": {},
   "outputs": [
    {
     "data": {
      "text/html": [
       "<table class=\"simpletable\">\n",
       "<caption>OLS Regression Results</caption>\n",
       "<tr>\n",
       "  <th>Dep. Variable:</th>          <td>Sales</td>      <th>  R-squared:         </th> <td>   0.874</td> \n",
       "</tr>\n",
       "<tr>\n",
       "  <th>Model:</th>                   <td>OLS</td>       <th>  Adj. R-squared:    </th> <td>   0.874</td> \n",
       "</tr>\n",
       "<tr>\n",
       "  <th>Method:</th>             <td>Least Squares</td>  <th>  F-statistic:       </th> <td>   1971.</td> \n",
       "</tr>\n",
       "<tr>\n",
       "  <th>Date:</th>             <td>Thu, 30 Jan 2025</td> <th>  Prob (F-statistic):</th> <td>8.81e-256</td>\n",
       "</tr>\n",
       "<tr>\n",
       "  <th>Time:</th>                 <td>09:33:29</td>     <th>  Log-Likelihood:    </th> <td> -2778.9</td> \n",
       "</tr>\n",
       "<tr>\n",
       "  <th>No. Observations:</th>      <td>   569</td>      <th>  AIC:               </th> <td>   5564.</td> \n",
       "</tr>\n",
       "<tr>\n",
       "  <th>Df Residuals:</th>          <td>   566</td>      <th>  BIC:               </th> <td>   5577.</td> \n",
       "</tr>\n",
       "<tr>\n",
       "  <th>Df Model:</th>              <td>     2</td>      <th>                     </th>     <td> </td>    \n",
       "</tr>\n",
       "<tr>\n",
       "  <th>Covariance Type:</th>      <td>nonrobust</td>    <th>                     </th>     <td> </td>    \n",
       "</tr>\n",
       "</table>\n",
       "<table class=\"simpletable\">\n",
       "<tr>\n",
       "         <td></td>            <th>coef</th>     <th>std err</th>      <th>t</th>      <th>P>|t|</th>  <th>[0.025</th>    <th>0.975]</th>  \n",
       "</tr>\n",
       "<tr>\n",
       "  <th>Intercept</th>       <td>  300.5296</td> <td>    2.417</td> <td>  124.360</td> <td> 0.000</td> <td>  295.783</td> <td>  305.276</td>\n",
       "</tr>\n",
       "<tr>\n",
       "  <th>C(TV)[T.Low]</th>    <td> -208.8133</td> <td>    3.329</td> <td>  -62.720</td> <td> 0.000</td> <td> -215.353</td> <td> -202.274</td>\n",
       "</tr>\n",
       "<tr>\n",
       "  <th>C(TV)[T.Medium]</th> <td> -101.5061</td> <td>    3.325</td> <td>  -30.526</td> <td> 0.000</td> <td> -108.038</td> <td>  -94.975</td>\n",
       "</tr>\n",
       "</table>\n",
       "<table class=\"simpletable\">\n",
       "<tr>\n",
       "  <th>Omnibus:</th>       <td>450.714</td> <th>  Durbin-Watson:     </th> <td>   2.002</td>\n",
       "</tr>\n",
       "<tr>\n",
       "  <th>Prob(Omnibus):</th> <td> 0.000</td>  <th>  Jarque-Bera (JB):  </th> <td>  35.763</td>\n",
       "</tr>\n",
       "<tr>\n",
       "  <th>Skew:</th>          <td>-0.044</td>  <th>  Prob(JB):          </th> <td>1.71e-08</td>\n",
       "</tr>\n",
       "<tr>\n",
       "  <th>Kurtosis:</th>      <td> 1.775</td>  <th>  Cond. No.          </th> <td>    3.86</td>\n",
       "</tr>\n",
       "</table><br/><br/>Notes:<br/>[1] Standard Errors assume that the covariance matrix of the errors is correctly specified."
      ],
      "text/latex": [
       "\\begin{center}\n",
       "\\begin{tabular}{lclc}\n",
       "\\toprule\n",
       "\\textbf{Dep. Variable:}    &      Sales       & \\textbf{  R-squared:         } &     0.874   \\\\\n",
       "\\textbf{Model:}            &       OLS        & \\textbf{  Adj. R-squared:    } &     0.874   \\\\\n",
       "\\textbf{Method:}           &  Least Squares   & \\textbf{  F-statistic:       } &     1971.   \\\\\n",
       "\\textbf{Date:}             & Thu, 30 Jan 2025 & \\textbf{  Prob (F-statistic):} & 8.81e-256   \\\\\n",
       "\\textbf{Time:}             &     09:33:29     & \\textbf{  Log-Likelihood:    } &   -2778.9   \\\\\n",
       "\\textbf{No. Observations:} &         569      & \\textbf{  AIC:               } &     5564.   \\\\\n",
       "\\textbf{Df Residuals:}     &         566      & \\textbf{  BIC:               } &     5577.   \\\\\n",
       "\\textbf{Df Model:}         &           2      & \\textbf{                     } &             \\\\\n",
       "\\textbf{Covariance Type:}  &    nonrobust     & \\textbf{                     } &             \\\\\n",
       "\\bottomrule\n",
       "\\end{tabular}\n",
       "\\begin{tabular}{lcccccc}\n",
       "                         & \\textbf{coef} & \\textbf{std err} & \\textbf{t} & \\textbf{P$> |$t$|$} & \\textbf{[0.025} & \\textbf{0.975]}  \\\\\n",
       "\\midrule\n",
       "\\textbf{Intercept}       &     300.5296  &        2.417     &   124.360  &         0.000        &      295.783    &      305.276     \\\\\n",
       "\\textbf{C(TV)[T.Low]}    &    -208.8133  &        3.329     &   -62.720  &         0.000        &     -215.353    &     -202.274     \\\\\n",
       "\\textbf{C(TV)[T.Medium]} &    -101.5061  &        3.325     &   -30.526  &         0.000        &     -108.038    &      -94.975     \\\\\n",
       "\\bottomrule\n",
       "\\end{tabular}\n",
       "\\begin{tabular}{lclc}\n",
       "\\textbf{Omnibus:}       & 450.714 & \\textbf{  Durbin-Watson:     } &    2.002  \\\\\n",
       "\\textbf{Prob(Omnibus):} &   0.000 & \\textbf{  Jarque-Bera (JB):  } &   35.763  \\\\\n",
       "\\textbf{Skew:}          &  -0.044 & \\textbf{  Prob(JB):          } & 1.71e-08  \\\\\n",
       "\\textbf{Kurtosis:}      &   1.775 & \\textbf{  Cond. No.          } &     3.86  \\\\\n",
       "\\bottomrule\n",
       "\\end{tabular}\n",
       "%\\caption{OLS Regression Results}\n",
       "\\end{center}\n",
       "\n",
       "Notes: \\newline\n",
       " [1] Standard Errors assume that the covariance matrix of the errors is correctly specified."
      ],
      "text/plain": [
       "<class 'statsmodels.iolib.summary.Summary'>\n",
       "\"\"\"\n",
       "                            OLS Regression Results                            \n",
       "==============================================================================\n",
       "Dep. Variable:                  Sales   R-squared:                       0.874\n",
       "Model:                            OLS   Adj. R-squared:                  0.874\n",
       "Method:                 Least Squares   F-statistic:                     1971.\n",
       "Date:                Thu, 30 Jan 2025   Prob (F-statistic):          8.81e-256\n",
       "Time:                        09:33:29   Log-Likelihood:                -2778.9\n",
       "No. Observations:                 569   AIC:                             5564.\n",
       "Df Residuals:                     566   BIC:                             5577.\n",
       "Df Model:                           2                                         \n",
       "Covariance Type:            nonrobust                                         \n",
       "===================================================================================\n",
       "                      coef    std err          t      P>|t|      [0.025      0.975]\n",
       "-----------------------------------------------------------------------------------\n",
       "Intercept         300.5296      2.417    124.360      0.000     295.783     305.276\n",
       "C(TV)[T.Low]     -208.8133      3.329    -62.720      0.000    -215.353    -202.274\n",
       "C(TV)[T.Medium]  -101.5061      3.325    -30.526      0.000    -108.038     -94.975\n",
       "==============================================================================\n",
       "Omnibus:                      450.714   Durbin-Watson:                   2.002\n",
       "Prob(Omnibus):                  0.000   Jarque-Bera (JB):               35.763\n",
       "Skew:                          -0.044   Prob(JB):                     1.71e-08\n",
       "Kurtosis:                       1.775   Cond. No.                         3.86\n",
       "==============================================================================\n",
       "\n",
       "Notes:\n",
       "[1] Standard Errors assume that the covariance matrix of the errors is correctly specified.\n",
       "\"\"\""
      ]
     },
     "execution_count": 38,
     "metadata": {},
     "output_type": "execute_result"
    }
   ],
   "source": [
    "model_summary"
   ]
  },
  {
   "cell_type": "markdown",
   "id": "1335c94c-26cb-4da6-8a5e-4be9d52e543e",
   "metadata": {},
   "source": [
    "###### The model explain <B>87.4%</b> of variation in Sales because of TV promotion which makes this model, an amazing predictor"
   ]
  },
  {
   "cell_type": "markdown",
   "id": "d11003b1-a2b6-465e-b694-f7194232821b",
   "metadata": {},
   "source": [
    "###### The default category for TV promotion budget is HIGH, The model predicts that other two categories MEDIUM and LOW ar elower on average than HIGH. Like LOW is 208.81 (million $) lower than HIGH \n",
    "###### The p-value for all coefficients is  0.000, meaning all coefficients are statistically significant at  p=0.05. The 95% confidence intervals for each coefficient should be reported when presenting results to stakeholders. For instance, there is a  95% chance the interval  [−215.353,−202.274] contains the true parameter of the slope of BTVLow , which is the estimated difference in promotion sales when a Low TV promotion is chosen instead of a High TV promotion."
   ]
  },
  {
   "cell_type": "markdown",
   "id": "27fc6c03-1856-4173-b0aa-c75bb9805c3e",
   "metadata": {},
   "source": [
    "### <b>One-Way ANOVA</b>"
   ]
  },
  {
   "cell_type": "code",
   "execution_count": 37,
   "id": "933c3f96-891c-41de-b1f9-8ca8403204b3",
   "metadata": {},
   "outputs": [
    {
     "data": {
      "text/html": [
       "<div>\n",
       "<style scoped>\n",
       "    .dataframe tbody tr th:only-of-type {\n",
       "        vertical-align: middle;\n",
       "    }\n",
       "\n",
       "    .dataframe tbody tr th {\n",
       "        vertical-align: top;\n",
       "    }\n",
       "\n",
       "    .dataframe thead th {\n",
       "        text-align: right;\n",
       "    }\n",
       "</style>\n",
       "<table border=\"1\" class=\"dataframe\">\n",
       "  <thead>\n",
       "    <tr style=\"text-align: right;\">\n",
       "      <th></th>\n",
       "      <th>sum_sq</th>\n",
       "      <th>df</th>\n",
       "      <th>F</th>\n",
       "      <th>PR(&gt;F)</th>\n",
       "    </tr>\n",
       "  </thead>\n",
       "  <tbody>\n",
       "    <tr>\n",
       "      <th>C(TV)</th>\n",
       "      <td>4.052692e+06</td>\n",
       "      <td>2.0</td>\n",
       "      <td>1971.455737</td>\n",
       "      <td>8.805550e-256</td>\n",
       "    </tr>\n",
       "    <tr>\n",
       "      <th>Residual</th>\n",
       "      <td>5.817589e+05</td>\n",
       "      <td>566.0</td>\n",
       "      <td>NaN</td>\n",
       "      <td>NaN</td>\n",
       "    </tr>\n",
       "  </tbody>\n",
       "</table>\n",
       "</div>"
      ],
      "text/plain": [
       "                sum_sq     df            F         PR(>F)\n",
       "C(TV)     4.052692e+06    2.0  1971.455737  8.805550e-256\n",
       "Residual  5.817589e+05  566.0          NaN            NaN"
      ]
     },
     "execution_count": 37,
     "metadata": {},
     "output_type": "execute_result"
    }
   ],
   "source": [
    "sm.stats.anova_lm(model, typ=2)"
   ]
  },
  {
   "cell_type": "markdown",
   "id": "856565da-28aa-4039-ad49-b1adab280063",
   "metadata": {},
   "source": [
    "###### <b>Null Hypothesis (Ho)</b> : There is no difference in Sales based on the TV promotion budget.\n",
    "###### <b>Alternate Hypothesis (H1)</b> : There is a difference in Sales based on the TV promotion budget. "
   ]
  },
  {
   "cell_type": "markdown",
   "id": "e49f0ce3-11fb-4eba-b5ed-113250159df4",
   "metadata": {},
   "source": [
    "##### <B>Conclusion</B>"
   ]
  },
  {
   "cell_type": "markdown",
   "id": "36af159f-a9c9-4c9d-9cff-1c53b7b65e07",
   "metadata": {},
   "source": [
    "###### p-value is 8.805550e-256 much lower than 0.05. hence the null hypothesis is rejected"
   ]
  },
  {
   "cell_type": "markdown",
   "id": "5a32ce17-9856-4652-a520-a5c45a890e90",
   "metadata": {},
   "source": [
    "###### The results of the one-way ANOVA test indicate that you can reject the null hypothesis in favor of the alternative hypothesis. There is a statistically significant difference in Sales among TV groups."
   ]
  },
  {
   "cell_type": "markdown",
   "id": "d6e5fabe-cfdd-48c6-8f2f-30c1f3e0a9f9",
   "metadata": {},
   "source": [
    "### <B>ANOVA post hoc Test</B>"
   ]
  },
  {
   "cell_type": "code",
   "execution_count": 40,
   "id": "b58f8f04-eae7-4752-8937-c176ca2685d9",
   "metadata": {},
   "outputs": [],
   "source": [
    "from statsmodels.stats.multicomp import pairwise_tukeyhsd"
   ]
  },
  {
   "cell_type": "code",
   "execution_count": 41,
   "id": "11dd71e1-aec2-4bd7-9b69-e2dcb237799b",
   "metadata": {},
   "outputs": [],
   "source": [
    "tukeyoneway = pairwise_tukeyhsd(endog=data['Sales'],groups=data['TV'],alpha=0.05)"
   ]
  },
  {
   "cell_type": "code",
   "execution_count": 42,
   "id": "b9aa56ae-9f94-4eba-96d1-8883da864438",
   "metadata": {},
   "outputs": [
    {
     "data": {
      "text/html": [
       "<table class=\"simpletable\">\n",
       "<caption>Multiple Comparison of Means - Tukey HSD, FWER=0.05</caption>\n",
       "<tr>\n",
       "  <th>group1</th> <th>group2</th> <th>meandiff</th>  <th>p-adj</th>   <th>lower</th>     <th>upper</th>   <th>reject</th>\n",
       "</tr>\n",
       "<tr>\n",
       "   <td>High</td>    <td>Low</td>  <td>-208.8133</td>  <td>0.0</td>  <td>-216.6367</td> <td>-200.9898</td>  <td>True</td> \n",
       "</tr>\n",
       "<tr>\n",
       "   <td>High</td>  <td>Medium</td> <td>-101.5061</td>  <td>0.0</td>  <td>-109.3202</td> <td>-93.6921</td>   <td>True</td> \n",
       "</tr>\n",
       "<tr>\n",
       "    <td>Low</td>  <td>Medium</td> <td>107.3072</td>   <td>0.0</td>   <td>99.7066</td>  <td>114.9077</td>   <td>True</td> \n",
       "</tr>\n",
       "</table>"
      ],
      "text/latex": [
       "\\begin{center}\n",
       "\\begin{tabular}{ccccccc}\n",
       "\\toprule\n",
       "\\textbf{group1} & \\textbf{group2} & \\textbf{meandiff} & \\textbf{p-adj} & \\textbf{lower} & \\textbf{upper} & \\textbf{reject}  \\\\\n",
       "\\midrule\n",
       "      High      &       Low       &     -208.8133     &      0.0       &   -216.6367    &   -200.9898    &       True       \\\\\n",
       "      High      &      Medium     &     -101.5061     &      0.0       &   -109.3202    &    -93.6921    &       True       \\\\\n",
       "      Low       &      Medium     &      107.3072     &      0.0       &    99.7066     &    114.9077    &       True       \\\\\n",
       "\\bottomrule\n",
       "\\end{tabular}\n",
       "%\\caption{Multiple Comparison of Means - Tukey HSD, FWER=0.05}\n",
       "\\end{center}"
      ],
      "text/plain": [
       "<class 'statsmodels.iolib.table.SimpleTable'>"
      ]
     },
     "execution_count": 42,
     "metadata": {},
     "output_type": "execute_result"
    }
   ],
   "source": [
    "tukeyoneway.summary()"
   ]
  },
  {
   "cell_type": "markdown",
   "id": "d5ca90af-ac98-4e4f-a19b-466c8c2ddd5f",
   "metadata": {},
   "source": [
    "###### A post hoc test was conducted to determine which TV groups are different and how many are different from each other. This provides more detail than the one-way ANOVA results, which can at most determine that at least one group is different. Further, using the Tukey HSD controls for the increasing probability of incorrectly rejecting a null hypothesis from peforming multiple tests.\n",
    "\n",
    "###### <B>The results were that Sales is not the same between any pair of TV groups.</B>"
   ]
  }
 ],
 "metadata": {
  "kernelspec": {
   "display_name": "Python 3 (ipykernel)",
   "language": "python",
   "name": "python3"
  },
  "language_info": {
   "codemirror_mode": {
    "name": "ipython",
    "version": 3
   },
   "file_extension": ".py",
   "mimetype": "text/x-python",
   "name": "python",
   "nbconvert_exporter": "python",
   "pygments_lexer": "ipython3",
   "version": "3.10.7"
  }
 },
 "nbformat": 4,
 "nbformat_minor": 5
}
